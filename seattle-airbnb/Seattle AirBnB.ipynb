{
 "cells": [
  {
   "cell_type": "markdown",
   "metadata": {},
   "source": [
    "### 1. Introduction\n",
    "AirBnB is amongst the fastest growing technology disruptors that has disrupted traditional hotel and other mainstream accomodation by enabling individual home-owners to rent our their properties simply from a mobile app. Its the Uber of accomodation.\n",
    "\n",
    "In short, a host downloads the mobile app, lists their property, decide on a price and the property becomes immediately available for rental to millions of potential stayers. AirBnB handles payments and a number of other logistics including security and verification.\n",
    "\n",
    "The selection of a price by a host is subject to a number of micro- and socio-economic factors including demand, competition, geographic location, access to ammenities and others. The price is also the main factor a stayer uses to either stay at the next AirBnB or go to a hotel altogether.\n",
    "\n",
    "We want to investigate AirBnB accomodation availability and pricing in Seattle and devise strategies to reduce prices for stayers. We will be using the CRISP-DM (Cross Industry Process for Data Mining) process which is a structured process for data science. This process has very specific steps we will be following throughout our investigation."
   ]
  },
  {
   "cell_type": "markdown",
   "metadata": {},
   "source": [
    "### 2. Business Understanding\n",
    "The business questions we want answered are as follows:\n",
    "- We will be travelling to Seattle for holiday and we have a number of things we need to know before departing. One of these is the status of accomodation.\n",
    "- We plan to stay in an AirBnB, we need to know if we will actually find AirBnB accomodation.\n",
    "- Is the AirBnB market growing to meet demand?\n",
    "- What drives the prices of AirBnB rentals in Seattle?\n",
    "- If we know what drives these prices, can we predict these prices?\n",
    "- If prices have predictive properties, can we devise strategies to reduce them?\n",
    "- Are these prices and demand cyclical?"
   ]
  },
  {
   "cell_type": "markdown",
   "metadata": {},
   "source": [
    "### 3. Data Understanding\n",
    "We review the characteristics of the data here. Fortunately for us AirBnB have already provided us with a dataset. We must just download and start getting initial insights from it.\n",
    "\n",
    "AirBnB are providing us with a dataset that is broken into three components:\n",
    "- calendar.csv: contains calendar information for the listed property for the given period (roughly a year in this case);\n",
    "- listings.csv: contains the listings for the given period;\n",
    "- reviews.csv: contains reviews provided by stayers for the given period.\n",
    "\n",
    "First we load the required libraries and data."
   ]
  },
  {
   "cell_type": "code",
   "execution_count": 1,
   "metadata": {},
   "outputs": [],
   "source": [
    "import numpy as np\n",
    "import pandas as pd\n",
    "import matplotlib.pyplot as plt\n",
    "from sklearn.linear_model import LinearRegression\n",
    "from sklearn.ensemble import RandomForestRegressor\n",
    "from sklearn.model_selection import GridSearchCV\n",
    "from pprint import pprint\n",
    "from sklearn.model_selection import train_test_split\n",
    "from sklearn.metrics import r2_score, mean_squared_error\n",
    "import seaborn as sns\n",
    "%matplotlib inline\n",
    "\n",
    "calendar_df = pd.read_csv('./seattle/calendar.csv')\n",
    "listings_df = pd.read_csv('./seattle/listings.csv')\n",
    "reviews_df = pd.read_csv('./seattle/reviews.csv')"
   ]
  },
  {
   "cell_type": "code",
   "execution_count": 2,
   "metadata": {},
   "outputs": [
    {
     "data": {
      "text/html": [
       "<div>\n",
       "<style scoped>\n",
       "    .dataframe tbody tr th:only-of-type {\n",
       "        vertical-align: middle;\n",
       "    }\n",
       "\n",
       "    .dataframe tbody tr th {\n",
       "        vertical-align: top;\n",
       "    }\n",
       "\n",
       "    .dataframe thead th {\n",
       "        text-align: right;\n",
       "    }\n",
       "</style>\n",
       "<table border=\"1\" class=\"dataframe\">\n",
       "  <thead>\n",
       "    <tr style=\"text-align: right;\">\n",
       "      <th></th>\n",
       "      <th>listing_id</th>\n",
       "      <th>date</th>\n",
       "      <th>available</th>\n",
       "      <th>price</th>\n",
       "    </tr>\n",
       "  </thead>\n",
       "  <tbody>\n",
       "    <tr>\n",
       "      <td>0</td>\n",
       "      <td>241032</td>\n",
       "      <td>2016-01-04</td>\n",
       "      <td>t</td>\n",
       "      <td>$85.00</td>\n",
       "    </tr>\n",
       "    <tr>\n",
       "      <td>1</td>\n",
       "      <td>241032</td>\n",
       "      <td>2016-01-05</td>\n",
       "      <td>t</td>\n",
       "      <td>$85.00</td>\n",
       "    </tr>\n",
       "    <tr>\n",
       "      <td>2</td>\n",
       "      <td>241032</td>\n",
       "      <td>2016-01-06</td>\n",
       "      <td>f</td>\n",
       "      <td>NaN</td>\n",
       "    </tr>\n",
       "    <tr>\n",
       "      <td>3</td>\n",
       "      <td>241032</td>\n",
       "      <td>2016-01-07</td>\n",
       "      <td>f</td>\n",
       "      <td>NaN</td>\n",
       "    </tr>\n",
       "    <tr>\n",
       "      <td>4</td>\n",
       "      <td>241032</td>\n",
       "      <td>2016-01-08</td>\n",
       "      <td>f</td>\n",
       "      <td>NaN</td>\n",
       "    </tr>\n",
       "  </tbody>\n",
       "</table>\n",
       "</div>"
      ],
      "text/plain": [
       "   listing_id        date available   price\n",
       "0      241032  2016-01-04         t  $85.00\n",
       "1      241032  2016-01-05         t  $85.00\n",
       "2      241032  2016-01-06         f     NaN\n",
       "3      241032  2016-01-07         f     NaN\n",
       "4      241032  2016-01-08         f     NaN"
      ]
     },
     "execution_count": 2,
     "metadata": {},
     "output_type": "execute_result"
    }
   ],
   "source": [
    "calendar_df.head()"
   ]
  },
  {
   "cell_type": "markdown",
   "metadata": {},
   "source": [
    "## Number of rows and features in Calendar."
   ]
  },
  {
   "cell_type": "code",
   "execution_count": 3,
   "metadata": {},
   "outputs": [
    {
     "name": "stdout",
     "output_type": "stream",
     "text": [
      "Calendar has 1393570 rows and 4 features.\n"
     ]
    }
   ],
   "source": [
    "num_rows, num_features = calendar_df.shape\n",
    "print('Calendar has {} rows and {} features.'.format(num_rows, num_features))"
   ]
  },
  {
   "cell_type": "code",
   "execution_count": 4,
   "metadata": {},
   "outputs": [
    {
     "data": {
      "text/plain": [
       "Index(['listing_id', 'date', 'available', 'price'], dtype='object')"
      ]
     },
     "execution_count": 4,
     "metadata": {},
     "output_type": "execute_result"
    }
   ],
   "source": [
    "calendar_df.columns"
   ]
  },
  {
   "cell_type": "code",
   "execution_count": 5,
   "metadata": {},
   "outputs": [
    {
     "name": "stdout",
     "output_type": "stream",
     "text": [
      "Maximum date in calendar is: 2017-01-02 00:00:00\n",
      "Earliest date in calendar is: 2016-01-04 00:00:00\n",
      "Period covered is: 364 days 00:00:00\n"
     ]
    }
   ],
   "source": [
    "max_date = pd.to_datetime(calendar_df['date'].max())\n",
    "min_date = pd.to_datetime(calendar_df['date'].min())\n",
    "print('Maximum date in calendar is: {}'.format(max_date))\n",
    "print('Earliest date in calendar is: {}'.format(min_date))\n",
    "print('Period covered is: {}'.format(max_date - min_date))"
   ]
  },
  {
   "cell_type": "code",
   "execution_count": 6,
   "metadata": {},
   "outputs": [
    {
     "data": {
      "text/plain": [
       "{'f', 't'}"
      ]
     },
     "execution_count": 6,
     "metadata": {},
     "output_type": "execute_result"
    }
   ],
   "source": [
    "set(calendar_df['available'])"
   ]
  },
  {
   "cell_type": "code",
   "execution_count": 7,
   "metadata": {},
   "outputs": [
    {
     "data": {
      "text/plain": [
       "listing_id     int64\n",
       "date          object\n",
       "available     object\n",
       "price         object\n",
       "dtype: object"
      ]
     },
     "execution_count": 7,
     "metadata": {},
     "output_type": "execute_result"
    }
   ],
   "source": [
    "calendar_df.dtypes"
   ]
  },
  {
   "cell_type": "markdown",
   "metadata": {},
   "source": [
    "These critical fields are mostly object types, we will need to fix these \n",
    "before we can do any detailed analysis. We will sort this out in the data preparation stage."
   ]
  },
  {
   "cell_type": "code",
   "execution_count": 8,
   "metadata": {},
   "outputs": [
    {
     "name": "stdout",
     "output_type": "stream",
     "text": [
      "{'listing_id', 'available', 'date'}\n",
      "Listings Columns with no missing values: 3\n"
     ]
    }
   ],
   "source": [
    "calendar_no_nulls = set(calendar_df.columns[calendar_df.isnull().mean() == 0])\n",
    "print(calendar_no_nulls)\n",
    "print('Listings Columns with no missing values: {}'.format(len(calendar_no_nulls)))"
   ]
  },
  {
   "cell_type": "code",
   "execution_count": 9,
   "metadata": {},
   "outputs": [
    {
     "data": {
      "text/plain": [
       "listing_id    0.00000\n",
       "date          0.00000\n",
       "available     0.00000\n",
       "price         0.32939\n",
       "dtype: float64"
      ]
     },
     "execution_count": 9,
     "metadata": {},
     "output_type": "execute_result"
    }
   ],
   "source": [
    "calendar_df.isnull().mean()"
   ]
  },
  {
   "cell_type": "markdown",
   "metadata": {},
   "source": [
    "We see that nearly 33% of data is missing in the price column of the calendar."
   ]
  },
  {
   "cell_type": "markdown",
   "metadata": {},
   "source": [
    "Lets see where these missing are between the available and unavailable listings."
   ]
  },
  {
   "cell_type": "code",
   "execution_count": 10,
   "metadata": {},
   "outputs": [
    {
     "name": "stdout",
     "output_type": "stream",
     "text": [
      "934542 459028\n"
     ]
    }
   ],
   "source": [
    "calendar_df_avail = calendar_df[calendar_df['available'] == 't']\n",
    "calendar_df_non_avail = calendar_df[calendar_df['available'] == 'f']\n",
    "print(len(calendar_df_avail), len(calendar_df_non_avail))"
   ]
  },
  {
   "cell_type": "code",
   "execution_count": 11,
   "metadata": {},
   "outputs": [
    {
     "data": {
      "text/plain": [
       "{'available', 'date', 'listing_id', 'price'}"
      ]
     },
     "execution_count": 11,
     "metadata": {},
     "output_type": "execute_result"
    }
   ],
   "source": [
    "calendar_df_avail_nulls = set(calendar_df_avail.columns[calendar_df_avail.isnull().mean() == 0])\n",
    "calendar_df_avail_nulls"
   ]
  },
  {
   "cell_type": "markdown",
   "metadata": {},
   "source": [
    "Since there are no missing values in the listings marked as available, we can conclude that the missing prices are all for unavailable properties. Which one could argue makes sense since there is little value in putting a price on a property which is not available anyways.\n",
    "\n",
    "Lets fix the dates. We will need this when we look at the prices per month in the dataset."
   ]
  },
  {
   "cell_type": "code",
   "execution_count": 101,
   "metadata": {},
   "outputs": [],
   "source": [
    "calendar_df['date'] = pd.to_datetime(calendar_df['date'])"
   ]
  },
  {
   "cell_type": "code",
   "execution_count": 102,
   "metadata": {},
   "outputs": [],
   "source": [
    "calendar_df['year'] = calendar_df['date'].dt.year"
   ]
  },
  {
   "cell_type": "code",
   "execution_count": 104,
   "metadata": {},
   "outputs": [],
   "source": [
    "calendar_df['month'] = calendar_df['date'].dt.month"
   ]
  },
  {
   "cell_type": "code",
   "execution_count": 106,
   "metadata": {},
   "outputs": [
    {
     "data": {
      "text/plain": [
       "listing_id             int64\n",
       "date          datetime64[ns]\n",
       "available             object\n",
       "price                 object\n",
       "year                   int64\n",
       "month                  int64\n",
       "dtype: object"
      ]
     },
     "execution_count": 106,
     "metadata": {},
     "output_type": "execute_result"
    }
   ],
   "source": [
    "calendar_df.dtypes"
   ]
  },
  {
   "cell_type": "code",
   "execution_count": 114,
   "metadata": {},
   "outputs": [],
   "source": [
    "cal_df = calendar_df.copy()"
   ]
  },
  {
   "cell_type": "code",
   "execution_count": 115,
   "metadata": {},
   "outputs": [
    {
     "data": {
      "text/html": [
       "<div>\n",
       "<style scoped>\n",
       "    .dataframe tbody tr th:only-of-type {\n",
       "        vertical-align: middle;\n",
       "    }\n",
       "\n",
       "    .dataframe tbody tr th {\n",
       "        vertical-align: top;\n",
       "    }\n",
       "\n",
       "    .dataframe thead th {\n",
       "        text-align: right;\n",
       "    }\n",
       "</style>\n",
       "<table border=\"1\" class=\"dataframe\">\n",
       "  <thead>\n",
       "    <tr style=\"text-align: right;\">\n",
       "      <th></th>\n",
       "      <th>listing_id</th>\n",
       "      <th>date</th>\n",
       "      <th>available</th>\n",
       "      <th>price</th>\n",
       "      <th>year</th>\n",
       "      <th>month</th>\n",
       "    </tr>\n",
       "  </thead>\n",
       "  <tbody>\n",
       "    <tr>\n",
       "      <td>0</td>\n",
       "      <td>241032</td>\n",
       "      <td>2016-01-04</td>\n",
       "      <td>t</td>\n",
       "      <td>$85.00</td>\n",
       "      <td>2016</td>\n",
       "      <td>1</td>\n",
       "    </tr>\n",
       "    <tr>\n",
       "      <td>1</td>\n",
       "      <td>241032</td>\n",
       "      <td>2016-01-05</td>\n",
       "      <td>t</td>\n",
       "      <td>$85.00</td>\n",
       "      <td>2016</td>\n",
       "      <td>1</td>\n",
       "    </tr>\n",
       "    <tr>\n",
       "      <td>2</td>\n",
       "      <td>241032</td>\n",
       "      <td>2016-01-06</td>\n",
       "      <td>f</td>\n",
       "      <td>NaN</td>\n",
       "      <td>2016</td>\n",
       "      <td>1</td>\n",
       "    </tr>\n",
       "    <tr>\n",
       "      <td>3</td>\n",
       "      <td>241032</td>\n",
       "      <td>2016-01-07</td>\n",
       "      <td>f</td>\n",
       "      <td>NaN</td>\n",
       "      <td>2016</td>\n",
       "      <td>1</td>\n",
       "    </tr>\n",
       "    <tr>\n",
       "      <td>4</td>\n",
       "      <td>241032</td>\n",
       "      <td>2016-01-08</td>\n",
       "      <td>f</td>\n",
       "      <td>NaN</td>\n",
       "      <td>2016</td>\n",
       "      <td>1</td>\n",
       "    </tr>\n",
       "  </tbody>\n",
       "</table>\n",
       "</div>"
      ],
      "text/plain": [
       "   listing_id       date available   price  year  month\n",
       "0      241032 2016-01-04         t  $85.00  2016      1\n",
       "1      241032 2016-01-05         t  $85.00  2016      1\n",
       "2      241032 2016-01-06         f     NaN  2016      1\n",
       "3      241032 2016-01-07         f     NaN  2016      1\n",
       "4      241032 2016-01-08         f     NaN  2016      1"
      ]
     },
     "execution_count": 115,
     "metadata": {},
     "output_type": "execute_result"
    }
   ],
   "source": [
    "cal_df.head()"
   ]
  },
  {
   "cell_type": "code",
   "execution_count": 116,
   "metadata": {},
   "outputs": [],
   "source": [
    "cal_df = cal_df.dropna(subset = ['price'], axis = 0)"
   ]
  },
  {
   "cell_type": "code",
   "execution_count": 119,
   "metadata": {},
   "outputs": [
    {
     "data": {
      "text/plain": [
       "2016    928844\n",
       "2017      5698\n",
       "Name: year, dtype: int64"
      ]
     },
     "execution_count": 119,
     "metadata": {},
     "output_type": "execute_result"
    }
   ],
   "source": [
    "cal_df['year'].value_counts()"
   ]
  },
  {
   "cell_type": "code",
   "execution_count": 163,
   "metadata": {},
   "outputs": [
    {
     "data": {
      "text/plain": [
       "92"
      ]
     },
     "execution_count": 163,
     "metadata": {},
     "output_type": "execute_result"
    }
   ],
   "source": [
    "len(listings_df.columns)"
   ]
  },
  {
   "cell_type": "code",
   "execution_count": 13,
   "metadata": {},
   "outputs": [
    {
     "data": {
      "text/html": [
       "<div>\n",
       "<style scoped>\n",
       "    .dataframe tbody tr th:only-of-type {\n",
       "        vertical-align: middle;\n",
       "    }\n",
       "\n",
       "    .dataframe tbody tr th {\n",
       "        vertical-align: top;\n",
       "    }\n",
       "\n",
       "    .dataframe thead th {\n",
       "        text-align: right;\n",
       "    }\n",
       "</style>\n",
       "<table border=\"1\" class=\"dataframe\">\n",
       "  <thead>\n",
       "    <tr style=\"text-align: right;\">\n",
       "      <th></th>\n",
       "      <th>id</th>\n",
       "      <th>listing_url</th>\n",
       "      <th>scrape_id</th>\n",
       "      <th>last_scraped</th>\n",
       "      <th>name</th>\n",
       "      <th>summary</th>\n",
       "      <th>space</th>\n",
       "      <th>description</th>\n",
       "      <th>experiences_offered</th>\n",
       "      <th>neighborhood_overview</th>\n",
       "      <th>...</th>\n",
       "      <th>review_scores_value</th>\n",
       "      <th>requires_license</th>\n",
       "      <th>license</th>\n",
       "      <th>jurisdiction_names</th>\n",
       "      <th>instant_bookable</th>\n",
       "      <th>cancellation_policy</th>\n",
       "      <th>require_guest_profile_picture</th>\n",
       "      <th>require_guest_phone_verification</th>\n",
       "      <th>calculated_host_listings_count</th>\n",
       "      <th>reviews_per_month</th>\n",
       "    </tr>\n",
       "  </thead>\n",
       "  <tbody>\n",
       "    <tr>\n",
       "      <td>0</td>\n",
       "      <td>241032</td>\n",
       "      <td>https://www.airbnb.com/rooms/241032</td>\n",
       "      <td>20160104002432</td>\n",
       "      <td>2016-01-04</td>\n",
       "      <td>Stylish Queen Anne Apartment</td>\n",
       "      <td>NaN</td>\n",
       "      <td>Make your self at home in this charming one-be...</td>\n",
       "      <td>Make your self at home in this charming one-be...</td>\n",
       "      <td>none</td>\n",
       "      <td>NaN</td>\n",
       "      <td>...</td>\n",
       "      <td>10.0</td>\n",
       "      <td>f</td>\n",
       "      <td>NaN</td>\n",
       "      <td>WASHINGTON</td>\n",
       "      <td>f</td>\n",
       "      <td>moderate</td>\n",
       "      <td>f</td>\n",
       "      <td>f</td>\n",
       "      <td>2</td>\n",
       "      <td>4.07</td>\n",
       "    </tr>\n",
       "    <tr>\n",
       "      <td>1</td>\n",
       "      <td>953595</td>\n",
       "      <td>https://www.airbnb.com/rooms/953595</td>\n",
       "      <td>20160104002432</td>\n",
       "      <td>2016-01-04</td>\n",
       "      <td>Bright &amp; Airy Queen Anne Apartment</td>\n",
       "      <td>Chemically sensitive? We've removed the irrita...</td>\n",
       "      <td>Beautiful, hypoallergenic apartment in an extr...</td>\n",
       "      <td>Chemically sensitive? We've removed the irrita...</td>\n",
       "      <td>none</td>\n",
       "      <td>Queen Anne is a wonderful, truly functional vi...</td>\n",
       "      <td>...</td>\n",
       "      <td>10.0</td>\n",
       "      <td>f</td>\n",
       "      <td>NaN</td>\n",
       "      <td>WASHINGTON</td>\n",
       "      <td>f</td>\n",
       "      <td>strict</td>\n",
       "      <td>t</td>\n",
       "      <td>t</td>\n",
       "      <td>6</td>\n",
       "      <td>1.48</td>\n",
       "    </tr>\n",
       "    <tr>\n",
       "      <td>2</td>\n",
       "      <td>3308979</td>\n",
       "      <td>https://www.airbnb.com/rooms/3308979</td>\n",
       "      <td>20160104002432</td>\n",
       "      <td>2016-01-04</td>\n",
       "      <td>New Modern House-Amazing water view</td>\n",
       "      <td>New modern house built in 2013.  Spectacular s...</td>\n",
       "      <td>Our house is modern, light and fresh with a wa...</td>\n",
       "      <td>New modern house built in 2013.  Spectacular s...</td>\n",
       "      <td>none</td>\n",
       "      <td>Upper Queen Anne is a charming neighborhood fu...</td>\n",
       "      <td>...</td>\n",
       "      <td>10.0</td>\n",
       "      <td>f</td>\n",
       "      <td>NaN</td>\n",
       "      <td>WASHINGTON</td>\n",
       "      <td>f</td>\n",
       "      <td>strict</td>\n",
       "      <td>f</td>\n",
       "      <td>f</td>\n",
       "      <td>2</td>\n",
       "      <td>1.15</td>\n",
       "    </tr>\n",
       "    <tr>\n",
       "      <td>3</td>\n",
       "      <td>7421966</td>\n",
       "      <td>https://www.airbnb.com/rooms/7421966</td>\n",
       "      <td>20160104002432</td>\n",
       "      <td>2016-01-04</td>\n",
       "      <td>Queen Anne Chateau</td>\n",
       "      <td>A charming apartment that sits atop Queen Anne...</td>\n",
       "      <td>NaN</td>\n",
       "      <td>A charming apartment that sits atop Queen Anne...</td>\n",
       "      <td>none</td>\n",
       "      <td>NaN</td>\n",
       "      <td>...</td>\n",
       "      <td>NaN</td>\n",
       "      <td>f</td>\n",
       "      <td>NaN</td>\n",
       "      <td>WASHINGTON</td>\n",
       "      <td>f</td>\n",
       "      <td>flexible</td>\n",
       "      <td>f</td>\n",
       "      <td>f</td>\n",
       "      <td>1</td>\n",
       "      <td>NaN</td>\n",
       "    </tr>\n",
       "    <tr>\n",
       "      <td>4</td>\n",
       "      <td>278830</td>\n",
       "      <td>https://www.airbnb.com/rooms/278830</td>\n",
       "      <td>20160104002432</td>\n",
       "      <td>2016-01-04</td>\n",
       "      <td>Charming craftsman 3 bdm house</td>\n",
       "      <td>Cozy family craftman house in beautiful neighb...</td>\n",
       "      <td>Cozy family craftman house in beautiful neighb...</td>\n",
       "      <td>Cozy family craftman house in beautiful neighb...</td>\n",
       "      <td>none</td>\n",
       "      <td>We are in the beautiful neighborhood of Queen ...</td>\n",
       "      <td>...</td>\n",
       "      <td>9.0</td>\n",
       "      <td>f</td>\n",
       "      <td>NaN</td>\n",
       "      <td>WASHINGTON</td>\n",
       "      <td>f</td>\n",
       "      <td>strict</td>\n",
       "      <td>f</td>\n",
       "      <td>f</td>\n",
       "      <td>1</td>\n",
       "      <td>0.89</td>\n",
       "    </tr>\n",
       "  </tbody>\n",
       "</table>\n",
       "<p>5 rows × 92 columns</p>\n",
       "</div>"
      ],
      "text/plain": [
       "        id                           listing_url       scrape_id last_scraped  \\\n",
       "0   241032   https://www.airbnb.com/rooms/241032  20160104002432   2016-01-04   \n",
       "1   953595   https://www.airbnb.com/rooms/953595  20160104002432   2016-01-04   \n",
       "2  3308979  https://www.airbnb.com/rooms/3308979  20160104002432   2016-01-04   \n",
       "3  7421966  https://www.airbnb.com/rooms/7421966  20160104002432   2016-01-04   \n",
       "4   278830   https://www.airbnb.com/rooms/278830  20160104002432   2016-01-04   \n",
       "\n",
       "                                  name  \\\n",
       "0         Stylish Queen Anne Apartment   \n",
       "1   Bright & Airy Queen Anne Apartment   \n",
       "2  New Modern House-Amazing water view   \n",
       "3                   Queen Anne Chateau   \n",
       "4       Charming craftsman 3 bdm house   \n",
       "\n",
       "                                             summary  \\\n",
       "0                                                NaN   \n",
       "1  Chemically sensitive? We've removed the irrita...   \n",
       "2  New modern house built in 2013.  Spectacular s...   \n",
       "3  A charming apartment that sits atop Queen Anne...   \n",
       "4  Cozy family craftman house in beautiful neighb...   \n",
       "\n",
       "                                               space  \\\n",
       "0  Make your self at home in this charming one-be...   \n",
       "1  Beautiful, hypoallergenic apartment in an extr...   \n",
       "2  Our house is modern, light and fresh with a wa...   \n",
       "3                                                NaN   \n",
       "4  Cozy family craftman house in beautiful neighb...   \n",
       "\n",
       "                                         description experiences_offered  \\\n",
       "0  Make your self at home in this charming one-be...                none   \n",
       "1  Chemically sensitive? We've removed the irrita...                none   \n",
       "2  New modern house built in 2013.  Spectacular s...                none   \n",
       "3  A charming apartment that sits atop Queen Anne...                none   \n",
       "4  Cozy family craftman house in beautiful neighb...                none   \n",
       "\n",
       "                               neighborhood_overview  ... review_scores_value  \\\n",
       "0                                                NaN  ...                10.0   \n",
       "1  Queen Anne is a wonderful, truly functional vi...  ...                10.0   \n",
       "2  Upper Queen Anne is a charming neighborhood fu...  ...                10.0   \n",
       "3                                                NaN  ...                 NaN   \n",
       "4  We are in the beautiful neighborhood of Queen ...  ...                 9.0   \n",
       "\n",
       "  requires_license license jurisdiction_names instant_bookable  \\\n",
       "0                f     NaN         WASHINGTON                f   \n",
       "1                f     NaN         WASHINGTON                f   \n",
       "2                f     NaN         WASHINGTON                f   \n",
       "3                f     NaN         WASHINGTON                f   \n",
       "4                f     NaN         WASHINGTON                f   \n",
       "\n",
       "  cancellation_policy  require_guest_profile_picture  \\\n",
       "0            moderate                              f   \n",
       "1              strict                              t   \n",
       "2              strict                              f   \n",
       "3            flexible                              f   \n",
       "4              strict                              f   \n",
       "\n",
       "  require_guest_phone_verification calculated_host_listings_count  \\\n",
       "0                                f                              2   \n",
       "1                                t                              6   \n",
       "2                                f                              2   \n",
       "3                                f                              1   \n",
       "4                                f                              1   \n",
       "\n",
       "  reviews_per_month  \n",
       "0              4.07  \n",
       "1              1.48  \n",
       "2              1.15  \n",
       "3               NaN  \n",
       "4              0.89  \n",
       "\n",
       "[5 rows x 92 columns]"
      ]
     },
     "execution_count": 13,
     "metadata": {},
     "output_type": "execute_result"
    }
   ],
   "source": [
    "listings_df.head()"
   ]
  },
  {
   "cell_type": "code",
   "execution_count": 14,
   "metadata": {},
   "outputs": [
    {
     "data": {
      "text/plain": [
       "(3818, 92)"
      ]
     },
     "execution_count": 14,
     "metadata": {},
     "output_type": "execute_result"
    }
   ],
   "source": [
    "listings_df.shape"
   ]
  },
  {
   "cell_type": "code",
   "execution_count": 15,
   "metadata": {},
   "outputs": [
    {
     "data": {
      "text/plain": [
       "Index(['id', 'listing_url', 'scrape_id', 'last_scraped', 'name', 'summary',\n",
       "       'space', 'description', 'experiences_offered', 'neighborhood_overview',\n",
       "       'notes', 'transit', 'thumbnail_url', 'medium_url', 'picture_url',\n",
       "       'xl_picture_url', 'host_id', 'host_url', 'host_name', 'host_since',\n",
       "       'host_location', 'host_about', 'host_response_time',\n",
       "       'host_response_rate', 'host_acceptance_rate', 'host_is_superhost',\n",
       "       'host_thumbnail_url', 'host_picture_url', 'host_neighbourhood',\n",
       "       'host_listings_count', 'host_total_listings_count',\n",
       "       'host_verifications', 'host_has_profile_pic', 'host_identity_verified',\n",
       "       'street', 'neighbourhood', 'neighbourhood_cleansed',\n",
       "       'neighbourhood_group_cleansed', 'city', 'state', 'zipcode', 'market',\n",
       "       'smart_location', 'country_code', 'country', 'latitude', 'longitude',\n",
       "       'is_location_exact', 'property_type', 'room_type', 'accommodates',\n",
       "       'bathrooms', 'bedrooms', 'beds', 'bed_type', 'amenities', 'square_feet',\n",
       "       'price', 'weekly_price', 'monthly_price', 'security_deposit',\n",
       "       'cleaning_fee', 'guests_included', 'extra_people', 'minimum_nights',\n",
       "       'maximum_nights', 'calendar_updated', 'has_availability',\n",
       "       'availability_30', 'availability_60', 'availability_90',\n",
       "       'availability_365', 'calendar_last_scraped', 'number_of_reviews',\n",
       "       'first_review', 'last_review', 'review_scores_rating',\n",
       "       'review_scores_accuracy', 'review_scores_cleanliness',\n",
       "       'review_scores_checkin', 'review_scores_communication',\n",
       "       'review_scores_location', 'review_scores_value', 'requires_license',\n",
       "       'license', 'jurisdiction_names', 'instant_bookable',\n",
       "       'cancellation_policy', 'require_guest_profile_picture',\n",
       "       'require_guest_phone_verification', 'calculated_host_listings_count',\n",
       "       'reviews_per_month'],\n",
       "      dtype='object')"
      ]
     },
     "execution_count": 15,
     "metadata": {},
     "output_type": "execute_result"
    }
   ],
   "source": [
    "listings_df.columns"
   ]
  },
  {
   "cell_type": "code",
   "execution_count": 16,
   "metadata": {},
   "outputs": [
    {
     "data": {
      "text/plain": [
       "92"
      ]
     },
     "execution_count": 16,
     "metadata": {},
     "output_type": "execute_result"
    }
   ],
   "source": [
    "len(listings_df.columns)"
   ]
  },
  {
   "cell_type": "code",
   "execution_count": 17,
   "metadata": {},
   "outputs": [
    {
     "data": {
      "text/plain": [
       "{dtype('int64'), dtype('float64'), dtype('O')}"
      ]
     },
     "execution_count": 17,
     "metadata": {},
     "output_type": "execute_result"
    }
   ],
   "source": [
    "set(listings_df.dtypes)"
   ]
  },
  {
   "cell_type": "markdown",
   "metadata": {},
   "source": [
    "## Categorical columns analysis\n",
    "The below columns are categorical columns. We need to review them individually and keep only those we think are obvious candidates. We might remove some more columns if we decide that we are overfitting."
   ]
  },
  {
   "cell_type": "code",
   "execution_count": 18,
   "metadata": {},
   "outputs": [
    {
     "data": {
      "text/plain": [
       "Index(['listing_url', 'last_scraped', 'name', 'summary', 'space',\n",
       "       'description', 'experiences_offered', 'neighborhood_overview', 'notes',\n",
       "       'transit', 'thumbnail_url', 'medium_url', 'picture_url',\n",
       "       'xl_picture_url', 'host_url', 'host_name', 'host_since',\n",
       "       'host_location', 'host_about', 'host_response_time',\n",
       "       'host_response_rate', 'host_acceptance_rate', 'host_is_superhost',\n",
       "       'host_thumbnail_url', 'host_picture_url', 'host_neighbourhood',\n",
       "       'host_verifications', 'host_has_profile_pic', 'host_identity_verified',\n",
       "       'street', 'neighbourhood', 'neighbourhood_cleansed',\n",
       "       'neighbourhood_group_cleansed', 'city', 'state', 'zipcode', 'market',\n",
       "       'smart_location', 'country_code', 'country', 'is_location_exact',\n",
       "       'property_type', 'room_type', 'bed_type', 'amenities', 'price',\n",
       "       'weekly_price', 'monthly_price', 'security_deposit', 'cleaning_fee',\n",
       "       'extra_people', 'calendar_updated', 'has_availability',\n",
       "       'calendar_last_scraped', 'first_review', 'last_review',\n",
       "       'requires_license', 'jurisdiction_names', 'instant_bookable',\n",
       "       'cancellation_policy', 'require_guest_profile_picture',\n",
       "       'require_guest_phone_verification'],\n",
       "      dtype='object')"
      ]
     },
     "execution_count": 18,
     "metadata": {},
     "output_type": "execute_result"
    }
   ],
   "source": [
    "listings_df.select_dtypes(include = ['object']).columns"
   ]
  },
  {
   "cell_type": "code",
   "execution_count": 19,
   "metadata": {},
   "outputs": [],
   "source": [
    "cols_to_drop = ['listing_url', 'name', 'summary', 'experiences_offered','neighborhood_overview',\n",
    "'notes', 'transit', 'thumbnail_url', 'medium_url', 'picture_url', 'xl_picture_url',\n",
    "'host_url', 'host_name', 'host_location', 'host_about', 'host_response_rate',\n",
    "'host_thumbnail_url', 'host_picture_url', 'host_neighbourhood','host_verifications',\n",
    "'host_has_profile_pic', 'street', 'neighbourhood_cleansed', 'neighbourhood_group_cleansed',\n",
    "'market', 'smart_location', 'country_code','country','is_location_exact',\n",
    "'has_availability', 'calendar_last_scraped', 'first_review','last_review',\n",
    "'requires_license', 'jurisdiction_names', 'instant_bookable', 'require_guest_profile_picture',\n",
    "'require_guest_phone_verification']"
   ]
  },
  {
   "cell_type": "markdown",
   "metadata": {},
   "source": [
    "Columns that will likely be useful:\n",
    "- host_since: perhaps the longer a person has been a host the more trust they inspire\n",
    "- host_response_time: hosts who response quicker can charge a premium?\n",
    "- host_is_superhost:\n",
    "- host_identity_verified:\n",
    "- neighourhood: some neighbourhoods should be able to charge more than others\n",
    "- city: makes sense to analyze although I think neighbourhood might approximae city\n",
    "- state: might determine prices somewhat\n",
    "- zipcode: also geographical location based\n",
    "- property_type\n",
    "- room_type\n",
    "- bed_type\n",
    "- amenities\n",
    "- price: this is our response variable, will need to be converted to float\n",
    "- weekly_price: 47% missing data mean can be used\n",
    "- montlhy_price: 60% missing data, can be dropped \n",
    "- security_deposit: 51% missing data, mean can be used\n",
    "- cleaning_fee: 27% missing data\n",
    "- extra_people\n",
    "- calendar_update: 34 unique entries in column, its categoricalish\n",
    "- cancellation_policy"
   ]
  },
  {
   "cell_type": "markdown",
   "metadata": {},
   "source": [
    "## Numerical columns analysis\n",
    "The following are numerical columns but not all of them are useful for our analysis here. For example, identifiers such as listing_id are unlikely to be useful for predicting price."
   ]
  },
  {
   "cell_type": "code",
   "execution_count": 20,
   "metadata": {},
   "outputs": [
    {
     "data": {
      "text/plain": [
       "Index(['id', 'scrape_id', 'host_id', 'host_listings_count',\n",
       "       'host_total_listings_count', 'latitude', 'longitude', 'accommodates',\n",
       "       'bathrooms', 'bedrooms', 'beds', 'square_feet', 'guests_included',\n",
       "       'minimum_nights', 'maximum_nights', 'availability_30',\n",
       "       'availability_60', 'availability_90', 'availability_365',\n",
       "       'number_of_reviews', 'review_scores_rating', 'review_scores_accuracy',\n",
       "       'review_scores_cleanliness', 'review_scores_checkin',\n",
       "       'review_scores_communication', 'review_scores_location',\n",
       "       'review_scores_value', 'license', 'calculated_host_listings_count',\n",
       "       'reviews_per_month'],\n",
       "      dtype='object')"
      ]
     },
     "execution_count": 20,
     "metadata": {},
     "output_type": "execute_result"
    }
   ],
   "source": [
    "listings_df.select_dtypes(include = ['int64', 'float64']).columns"
   ]
  },
  {
   "cell_type": "code",
   "execution_count": 21,
   "metadata": {},
   "outputs": [],
   "source": [
    "cols_to_drop = ['id', 'scrape_id', 'host_id', 'host_total_listings_count',\n",
    "               'latitude', 'longitude', 'square_feet', 'guests_included',\n",
    "                'minimum_nights', 'maximum_nights', 'availability_30',\n",
    "                'availability_60', 'availability_90', 'availability_365', \n",
    "                'review_scores_accuracy', 'review_scores_cleanliness', \n",
    "                'review_scores_checkin',\n",
    "                'review_scores_communication', 'review_scores_location',\n",
    "                'review_scores_value', 'license', 'calculated_host_listings_count',\n",
    "                'reviews_per_month']"
   ]
  },
  {
   "cell_type": "markdown",
   "metadata": {},
   "source": [
    "Numerical columns that will be likely useful:\n",
    "- host_listings_count:\n",
    "- accomodates:\n",
    "- bathrooms:\n",
    "- bedrooms:\n",
    "- beds:\n",
    "- review_scores_rating"
   ]
  },
  {
   "cell_type": "markdown",
   "metadata": {},
   "source": [
    "## Listings columns with no missing values\n",
    "Some of these columns have already earmarked for deletion."
   ]
  },
  {
   "cell_type": "code",
   "execution_count": 22,
   "metadata": {},
   "outputs": [
    {
     "name": "stdout",
     "output_type": "stream",
     "text": [
      "{'availability_60', 'state', 'require_guest_phone_verification', 'availability_90', 'smart_location', 'description', 'city', 'has_availability', 'room_type', 'neighbourhood_group_cleansed', 'instant_bookable', 'accommodates', 'last_scraped', 'latitude', 'host_url', 'extra_people', 'scrape_id', 'host_verifications', 'availability_30', 'cancellation_policy', 'listing_url', 'host_id', 'amenities', 'calendar_updated', 'maximum_nights', 'picture_url', 'minimum_nights', 'number_of_reviews', 'availability_365', 'neighbourhood_cleansed', 'requires_license', 'name', 'country', 'calendar_last_scraped', 'street', 'longitude', 'country_code', 'bed_type', 'is_location_exact', 'market', 'require_guest_profile_picture', 'jurisdiction_names', 'experiences_offered', 'id', 'price', 'guests_included', 'calculated_host_listings_count'}\n",
      "Listings Columns with no missing values: 47\n"
     ]
    }
   ],
   "source": [
    "listings_no_nulls = set(listings_df.columns[listings_df.isnull().mean() == 0])\n",
    "print(listings_no_nulls)\n",
    "print('Listings Columns with no missing values: {}'.format(len(listings_no_nulls)))"
   ]
  },
  {
   "cell_type": "markdown",
   "metadata": {},
   "source": [
    "## Listings columns with more than 75% missing values"
   ]
  },
  {
   "cell_type": "code",
   "execution_count": 23,
   "metadata": {},
   "outputs": [
    {
     "name": "stdout",
     "output_type": "stream",
     "text": [
      "{'license', 'square_feet'}\n"
     ]
    }
   ],
   "source": [
    "listings_most_missing_cols = set(listings_df.columns[listings_df.isnull().mean() >= 0.75])\n",
    "print(listings_most_missing_cols)"
   ]
  },
  {
   "cell_type": "markdown",
   "metadata": {},
   "source": [
    "These 2 columns are already identified above for deletion. Square_feet is missing 75% of the data."
   ]
  },
  {
   "cell_type": "markdown",
   "metadata": {},
   "source": [
    "## Room type will probably be interesting, lets see the values in the dataset"
   ]
  },
  {
   "cell_type": "code",
   "execution_count": 24,
   "metadata": {},
   "outputs": [
    {
     "data": {
      "image/png": "[encoded data removed]",
      "text/plain": [
       "<Figure size 432x288 with 1 Axes>"
      ]
     },
     "metadata": {
      "needs_background": "light"
     },
     "output_type": "display_data"
    }
   ],
   "source": [
    "room_type_vals = listings_df.room_type.value_counts()\n",
    "(room_type_vals/listings_df.shape[0]).plot(kind='bar')\n",
    "plt.title('Room Type');"
   ]
  },
  {
   "cell_type": "markdown",
   "metadata": {},
   "source": [
    "The majority of listings (about 70%) are entire homes or appartments. These probably drive the market."
   ]
  },
  {
   "cell_type": "markdown",
   "metadata": {},
   "source": [
    "## The number of bedroom should drive the price. Lets have a look at the distribution of beds in our dataset."
   ]
  },
  {
   "cell_type": "code",
   "execution_count": 25,
   "metadata": {},
   "outputs": [
    {
     "data": {
      "image/png": "[encoded data removed]",
      "text/plain": [
       "<Figure size 432x288 with 1 Axes>"
      ]
     },
     "metadata": {
      "needs_background": "light"
     },
     "output_type": "display_data"
    }
   ],
   "source": [
    "beds_vals = listings_df.beds.value_counts()\n",
    "(beds_vals/listings_df.shape[0]).plot(kind='bar')\n",
    "plt.title('Beds');"
   ]
  },
  {
   "cell_type": "markdown",
   "metadata": {},
   "source": [
    "The majority of the listings have 1 bed followed by 2 and 3 beds. We will by how much an additional bed makes a listing more expensive."
   ]
  },
  {
   "cell_type": "markdown",
   "metadata": {},
   "source": [
    "### 4. Data Preparation\n",
    "The first thing we do is merge our calendar and listings datasets. We leave out reviews for now as we already have some useful review information in the listings data."
   ]
  },
  {
   "cell_type": "code",
   "execution_count": 26,
   "metadata": {},
   "outputs": [],
   "source": [
    "def merge_and_drop(calendar_data, listings_data):\n",
    "    \"\"\"\n",
    "    Merges calendar and listings and drops the columns we have initially\n",
    "    identified as not usefull.\n",
    "    INPUT\n",
    "    ====================================================================\n",
    "    calendar_df - pandas dataframe with calendar data\n",
    "    listings_df - pandas dataframe with listings data\n",
    "    \n",
    "    OUTPUT\n",
    "    ====================================================================\n",
    "    df - pandas dataframe with merged calendar and listings dataframes and \n",
    "    identified categorial and numerical columns dropped.\n",
    "    \"\"\"\n",
    "    \n",
    "    # The categorical columns to be dropped.\n",
    "    cat_cols_to_drop = ['listing_url','date','available','last_scraped', 'host_since', 'name', 'space','description', 'summary', 'experiences_offered','neighborhood_overview', 'notes', \n",
    "                        'transit', 'thumbnail_url', 'medium_url', 'picture_url', 'xl_picture_url', 'host_url', \n",
    "                        'host_name', 'host_location', 'host_about', 'host_response_rate', 'host_thumbnail_url', \n",
    "                        'host_picture_url','neighbourhood', 'host_neighbourhood','host_verifications', 'host_has_profile_pic', \n",
    "                        'street', 'neighbourhood_cleansed', 'neighbourhood_group_cleansed', 'market', 'smart_location', \n",
    "                        'country_code','calendar_updated', 'country','is_location_exact', 'has_availability', 'calendar_last_scraped', \n",
    "                        'first_review','last_review', 'requires_license', 'jurisdiction_names', 'instant_bookable', \n",
    "                        'require_guest_profile_picture','amenities', 'require_guest_phone_verification',\n",
    "                       'weekly_price', 'monthly_price', 'security_deposit']\n",
    "    \n",
    "    # The numeral columns to be dropped\n",
    "    num_cols_to_drop = ['listing_id', 'scrape_id', 'host_id', 'host_total_listings_count', 'latitude', 'longitude', 'square_feet', \n",
    "                        'guests_included', 'minimum_nights', 'maximum_nights', 'availability_30', 'availability_60', \n",
    "                        'availability_90', 'availability_365', 'review_scores_accuracy', 'review_scores_cleanliness', \n",
    "                        'review_scores_checkin', 'review_scores_communication', 'review_scores_location', 'state', 'zipcode', \n",
    "                        'review_scores_value', 'license', 'calculated_host_listings_count', 'reviews_per_month']\n",
    "    \n",
    "    cols_to_drop = cat_cols_to_drop + num_cols_to_drop\n",
    "    \n",
    "    # Rename the listing_id column in listings_data so that we can use that to merge the two datasets\n",
    "    calendar_data = calendar_data.rename(index = str, columns = {'price':'price_calendar'})\n",
    "    listings_data = listings_data.rename(index = str, columns = {'id':'listing_id', 'price':'price_listing'})\n",
    "    \n",
    "    # Merge calendar and listings\n",
    "    df = pd.merge(calendar_data, listings_data)\n",
    "    \n",
    "    df = df.drop(columns = ['price_calendar'], axis = 1)\n",
    "    df = df.rename(index = str, columns = {'price_listing':'price'})\n",
    "    \n",
    "    # drop columns\n",
    "    df = df.drop(columns = cols_to_drop, axis = 1)\n",
    "    \n",
    "    return df\n",
    "\n",
    "df = merge_and_drop(calendar_df, listings_df)"
   ]
  },
  {
   "cell_type": "code",
   "execution_count": 27,
   "metadata": {},
   "outputs": [
    {
     "data": {
      "text/plain": [
       "Index(['host_response_time', 'host_acceptance_rate', 'host_is_superhost',\n",
       "       'host_listings_count', 'host_identity_verified', 'city',\n",
       "       'property_type', 'room_type', 'accommodates', 'bathrooms', 'bedrooms',\n",
       "       'beds', 'bed_type', 'price', 'cleaning_fee', 'extra_people',\n",
       "       'number_of_reviews', 'review_scores_rating', 'cancellation_policy'],\n",
       "      dtype='object')"
      ]
     },
     "execution_count": 27,
     "metadata": {},
     "output_type": "execute_result"
    }
   ],
   "source": [
    "df.columns"
   ]
  },
  {
   "cell_type": "markdown",
   "metadata": {},
   "source": [
    "We now clean up the data here."
   ]
  },
  {
   "cell_type": "code",
   "execution_count": 28,
   "metadata": {},
   "outputs": [],
   "source": [
    "def clean_data(df):\n",
    "    \"\"\"\n",
    "    INPUT\n",
    "    ===================================================================\n",
    "    df - pandas dataframe with all our data\n",
    "    OUTPUT\n",
    "    ===================================================================\n",
    "    X - A matrix containing all of the variables to be used for predictiions.\n",
    "    y - The respondent variable vector\n",
    "    \n",
    "    This function cleans df using the following steps to produce X and y:\n",
    "    1. Clean the price columns to have the appropriate float format\n",
    "    2. Make City values consistent\n",
    "    3. Feature engineering for date columns\n",
    "    4. Imputation of missing values\n",
    "    \"\"\"\n",
    "    # 1. Clean the price columns to have appropriate float format\n",
    "    price_cols = ['price', 'extra_people', 'cleaning_fee']\n",
    "    \n",
    "    remove_dollar = lambda x: x.strip('$')\n",
    "    remove_comma = lambda x: x.replace(',','')\n",
    "    for col in price_cols:\n",
    "        # first convert from object to string\n",
    "        df[col] = df[col].astype(str)\n",
    "        \n",
    "        # replace all the dollor symbols and commas\n",
    "        df[col] = df[col].apply(remove_dollar)\n",
    "        df[col] = df[col].apply(remove_comma)\n",
    "        \n",
    "        # now convert to float\n",
    "        df[col] = df[col].astype(float)\n",
    "    \n",
    "    # 2. Make City Values consistent.\n",
    "    df['city'] = df['city'].replace('西雅图','Seattle')\n",
    "    df['city'] = df['city'].replace('seattle', 'Seattle')\n",
    "    df['city'] = df['city'].replace('Ballard, Seattle', 'Ballard Seattle')\n",
    "    df['city'] = df['city'].str.strip()\n",
    "    \n",
    "    # 4. Fill missing values for the different columns\n",
    "    fill_mode_cols = ['bathrooms', 'bedrooms', 'beds', 'host_response_time',\n",
    "                     'host_acceptance_rate', 'host_is_superhost', 'host_listings_count',\n",
    "                     'host_identity_verified', 'property_type', 'review_scores_rating']\n",
    "    for col in fill_mode_cols:\n",
    "        df[col] = df[col].fillna(df[col].mode()[0])\n",
    "    \n",
    "    fill_mean_cols = ['cleaning_fee']\n",
    "    for col in fill_mean_cols:\n",
    "        df[col] = df[col].fillna(df[col].mean(), inplace = True)\n",
    "    \n",
    "    # 3. Clean up categorical columns here    \n",
    "    cat_vars = df.select_dtypes(include = ['object']).copy().columns\n",
    "    for var in cat_vars:\n",
    "        # for each cat add dummy var, drop original column\n",
    "         df = pd.concat([df.drop(var, axis=1), pd.get_dummies(df[var], prefix=var, prefix_sep='_', drop_first=True)], axis=1)\n",
    "    \n",
    "    y = df['price']\n",
    "    X = df.drop(columns = ['price'], axis = 1)\n",
    "    \n",
    "    return X, y"
   ]
  },
  {
   "cell_type": "code",
   "execution_count": 29,
   "metadata": {},
   "outputs": [],
   "source": [
    "X, y = clean_data(df)"
   ]
  },
  {
   "cell_type": "code",
   "execution_count": 30,
   "metadata": {},
   "outputs": [
    {
     "data": {
      "text/html": [
       "<div>\n",
       "<style scoped>\n",
       "    .dataframe tbody tr th:only-of-type {\n",
       "        vertical-align: middle;\n",
       "    }\n",
       "\n",
       "    .dataframe tbody tr th {\n",
       "        vertical-align: top;\n",
       "    }\n",
       "\n",
       "    .dataframe thead th {\n",
       "        text-align: right;\n",
       "    }\n",
       "</style>\n",
       "<table border=\"1\" class=\"dataframe\">\n",
       "  <thead>\n",
       "    <tr style=\"text-align: right;\">\n",
       "      <th></th>\n",
       "      <th>host_listings_count</th>\n",
       "      <th>accommodates</th>\n",
       "      <th>bathrooms</th>\n",
       "      <th>bedrooms</th>\n",
       "      <th>beds</th>\n",
       "      <th>extra_people</th>\n",
       "      <th>number_of_reviews</th>\n",
       "      <th>review_scores_rating</th>\n",
       "      <th>host_response_time_within a day</th>\n",
       "      <th>host_response_time_within a few hours</th>\n",
       "      <th>...</th>\n",
       "      <th>property_type_Treehouse</th>\n",
       "      <th>property_type_Yurt</th>\n",
       "      <th>room_type_Private room</th>\n",
       "      <th>room_type_Shared room</th>\n",
       "      <th>bed_type_Couch</th>\n",
       "      <th>bed_type_Futon</th>\n",
       "      <th>bed_type_Pull-out Sofa</th>\n",
       "      <th>bed_type_Real Bed</th>\n",
       "      <th>cancellation_policy_moderate</th>\n",
       "      <th>cancellation_policy_strict</th>\n",
       "    </tr>\n",
       "  </thead>\n",
       "  <tbody>\n",
       "    <tr>\n",
       "      <td>0</td>\n",
       "      <td>3.0</td>\n",
       "      <td>4</td>\n",
       "      <td>1.0</td>\n",
       "      <td>1.0</td>\n",
       "      <td>1.0</td>\n",
       "      <td>5.0</td>\n",
       "      <td>207</td>\n",
       "      <td>95.0</td>\n",
       "      <td>0</td>\n",
       "      <td>1</td>\n",
       "      <td>...</td>\n",
       "      <td>0</td>\n",
       "      <td>0</td>\n",
       "      <td>0</td>\n",
       "      <td>0</td>\n",
       "      <td>0</td>\n",
       "      <td>0</td>\n",
       "      <td>0</td>\n",
       "      <td>1</td>\n",
       "      <td>1</td>\n",
       "      <td>0</td>\n",
       "    </tr>\n",
       "    <tr>\n",
       "      <td>1</td>\n",
       "      <td>3.0</td>\n",
       "      <td>4</td>\n",
       "      <td>1.0</td>\n",
       "      <td>1.0</td>\n",
       "      <td>1.0</td>\n",
       "      <td>5.0</td>\n",
       "      <td>207</td>\n",
       "      <td>95.0</td>\n",
       "      <td>0</td>\n",
       "      <td>1</td>\n",
       "      <td>...</td>\n",
       "      <td>0</td>\n",
       "      <td>0</td>\n",
       "      <td>0</td>\n",
       "      <td>0</td>\n",
       "      <td>0</td>\n",
       "      <td>0</td>\n",
       "      <td>0</td>\n",
       "      <td>1</td>\n",
       "      <td>1</td>\n",
       "      <td>0</td>\n",
       "    </tr>\n",
       "    <tr>\n",
       "      <td>2</td>\n",
       "      <td>3.0</td>\n",
       "      <td>4</td>\n",
       "      <td>1.0</td>\n",
       "      <td>1.0</td>\n",
       "      <td>1.0</td>\n",
       "      <td>5.0</td>\n",
       "      <td>207</td>\n",
       "      <td>95.0</td>\n",
       "      <td>0</td>\n",
       "      <td>1</td>\n",
       "      <td>...</td>\n",
       "      <td>0</td>\n",
       "      <td>0</td>\n",
       "      <td>0</td>\n",
       "      <td>0</td>\n",
       "      <td>0</td>\n",
       "      <td>0</td>\n",
       "      <td>0</td>\n",
       "      <td>1</td>\n",
       "      <td>1</td>\n",
       "      <td>0</td>\n",
       "    </tr>\n",
       "    <tr>\n",
       "      <td>3</td>\n",
       "      <td>3.0</td>\n",
       "      <td>4</td>\n",
       "      <td>1.0</td>\n",
       "      <td>1.0</td>\n",
       "      <td>1.0</td>\n",
       "      <td>5.0</td>\n",
       "      <td>207</td>\n",
       "      <td>95.0</td>\n",
       "      <td>0</td>\n",
       "      <td>1</td>\n",
       "      <td>...</td>\n",
       "      <td>0</td>\n",
       "      <td>0</td>\n",
       "      <td>0</td>\n",
       "      <td>0</td>\n",
       "      <td>0</td>\n",
       "      <td>0</td>\n",
       "      <td>0</td>\n",
       "      <td>1</td>\n",
       "      <td>1</td>\n",
       "      <td>0</td>\n",
       "    </tr>\n",
       "    <tr>\n",
       "      <td>4</td>\n",
       "      <td>3.0</td>\n",
       "      <td>4</td>\n",
       "      <td>1.0</td>\n",
       "      <td>1.0</td>\n",
       "      <td>1.0</td>\n",
       "      <td>5.0</td>\n",
       "      <td>207</td>\n",
       "      <td>95.0</td>\n",
       "      <td>0</td>\n",
       "      <td>1</td>\n",
       "      <td>...</td>\n",
       "      <td>0</td>\n",
       "      <td>0</td>\n",
       "      <td>0</td>\n",
       "      <td>0</td>\n",
       "      <td>0</td>\n",
       "      <td>0</td>\n",
       "      <td>0</td>\n",
       "      <td>1</td>\n",
       "      <td>1</td>\n",
       "      <td>0</td>\n",
       "    </tr>\n",
       "  </tbody>\n",
       "</table>\n",
       "<p>5 rows × 40 columns</p>\n",
       "</div>"
      ],
      "text/plain": [
       "   host_listings_count  accommodates  bathrooms  bedrooms  beds  extra_people  \\\n",
       "0                  3.0             4        1.0       1.0   1.0           5.0   \n",
       "1                  3.0             4        1.0       1.0   1.0           5.0   \n",
       "2                  3.0             4        1.0       1.0   1.0           5.0   \n",
       "3                  3.0             4        1.0       1.0   1.0           5.0   \n",
       "4                  3.0             4        1.0       1.0   1.0           5.0   \n",
       "\n",
       "   number_of_reviews  review_scores_rating  host_response_time_within a day  \\\n",
       "0                207                  95.0                                0   \n",
       "1                207                  95.0                                0   \n",
       "2                207                  95.0                                0   \n",
       "3                207                  95.0                                0   \n",
       "4                207                  95.0                                0   \n",
       "\n",
       "   host_response_time_within a few hours  ...  property_type_Treehouse  \\\n",
       "0                                      1  ...                        0   \n",
       "1                                      1  ...                        0   \n",
       "2                                      1  ...                        0   \n",
       "3                                      1  ...                        0   \n",
       "4                                      1  ...                        0   \n",
       "\n",
       "   property_type_Yurt  room_type_Private room  room_type_Shared room  \\\n",
       "0                   0                       0                      0   \n",
       "1                   0                       0                      0   \n",
       "2                   0                       0                      0   \n",
       "3                   0                       0                      0   \n",
       "4                   0                       0                      0   \n",
       "\n",
       "   bed_type_Couch  bed_type_Futon  bed_type_Pull-out Sofa  bed_type_Real Bed  \\\n",
       "0               0               0                       0                  1   \n",
       "1               0               0                       0                  1   \n",
       "2               0               0                       0                  1   \n",
       "3               0               0                       0                  1   \n",
       "4               0               0                       0                  1   \n",
       "\n",
       "   cancellation_policy_moderate  cancellation_policy_strict  \n",
       "0                             1                           0  \n",
       "1                             1                           0  \n",
       "2                             1                           0  \n",
       "3                             1                           0  \n",
       "4                             1                           0  \n",
       "\n",
       "[5 rows x 40 columns]"
      ]
     },
     "execution_count": 30,
     "metadata": {},
     "output_type": "execute_result"
    }
   ],
   "source": [
    "X.head()"
   ]
  },
  {
   "cell_type": "code",
   "execution_count": 31,
   "metadata": {},
   "outputs": [
    {
     "data": {
      "text/plain": [
       "Index(['host_listings_count', 'accommodates', 'bathrooms', 'bedrooms', 'beds',\n",
       "       'extra_people', 'number_of_reviews', 'review_scores_rating',\n",
       "       'host_response_time_within a day',\n",
       "       'host_response_time_within a few hours',\n",
       "       'host_response_time_within an hour', 'host_acceptance_rate_100%',\n",
       "       'host_is_superhost_t', 'host_identity_verified_t',\n",
       "       'city_Phinney Ridge Seattle', 'city_Seattle', 'city_West Seattle',\n",
       "       'property_type_Bed & Breakfast', 'property_type_Boat',\n",
       "       'property_type_Bungalow', 'property_type_Cabin',\n",
       "       'property_type_Camper/RV', 'property_type_Chalet',\n",
       "       'property_type_Condominium', 'property_type_Dorm',\n",
       "       'property_type_House', 'property_type_Loft', 'property_type_Other',\n",
       "       'property_type_Tent', 'property_type_Townhouse',\n",
       "       'property_type_Treehouse', 'property_type_Yurt',\n",
       "       'room_type_Private room', 'room_type_Shared room', 'bed_type_Couch',\n",
       "       'bed_type_Futon', 'bed_type_Pull-out Sofa', 'bed_type_Real Bed',\n",
       "       'cancellation_policy_moderate', 'cancellation_policy_strict'],\n",
       "      dtype='object')"
      ]
     },
     "execution_count": 31,
     "metadata": {},
     "output_type": "execute_result"
    }
   ],
   "source": [
    "X.columns"
   ]
  },
  {
   "cell_type": "code",
   "execution_count": 32,
   "metadata": {},
   "outputs": [
    {
     "data": {
      "text/plain": [
       "0    85.0\n",
       "1    85.0\n",
       "2    85.0\n",
       "3    85.0\n",
       "4    85.0\n",
       "Name: price, dtype: float64"
      ]
     },
     "execution_count": 32,
     "metadata": {},
     "output_type": "execute_result"
    }
   ],
   "source": [
    "y.head()"
   ]
  },
  {
   "cell_type": "code",
   "execution_count": null,
   "metadata": {},
   "outputs": [],
   "source": []
  },
  {
   "cell_type": "markdown",
   "metadata": {},
   "source": [
    "### 5. Model Data"
   ]
  },
  {
   "cell_type": "code",
   "execution_count": 33,
   "metadata": {},
   "outputs": [],
   "source": [
    "def train(X, y, cut_offs, test_size = 0.3, rand_state = 42, plot = True):\n",
    "    \"\"\"\n",
    "    INPUT\n",
    "    =================================================================\n",
    "    X - a pandas dataframe with the independent variables\n",
    "    y - a pandas dataframe with the dependent variable\n",
    "    cut_offs - list of ints, cut off for the number of non-zero values in dummy\n",
    "                categorical vars\n",
    "    OUTPUT\n",
    "    =================================================================\n",
    "    lm_model (LinearRegression model from sklearn): the fitted linear regression model\n",
    "    r2_scores_test: list of floats of r2 scores on the test data\n",
    "    r2_scores_train: list of floats of r2 scores on the training data\n",
    "    X_train, X_test, y_train, y_test: pandas dataframes, outputs from sklearn train_test_split\n",
    "    \n",
    "    Fits the data to a LinearRegression Model in sklearn:\n",
    "    1. instantiate the model\n",
    "    2. Fit the data to the model\n",
    "    3. Make predictions\n",
    "    4. Score the model\n",
    "    \"\"\"\n",
    "    r2_scores_test, r2_scores_train, num_feats, results = [], [], [], dict()\n",
    "    \n",
    "    for cut_off in cut_offs:\n",
    "        # Reduce X matrix\n",
    "        reduce_X = X.iloc[:, np.where((X.sum() > cut_off) == True)[0]]\n",
    "        num_feats.append(reduce_X.shape[1])\n",
    "        \n",
    "        # Split the data into train, test using sklearn\n",
    "        X_train, X_test, y_train, y_test = train_test_split(reduce_X, y, \n",
    "                                                        test_size = test_size,\n",
    "                                                       random_state = rand_state)\n",
    "        \n",
    "        # instantate the linear model here\n",
    "        lm_model = LinearRegression(normalize = True)\n",
    "        \n",
    "        # Fit the data to the model\n",
    "        lm_model.fit(X_train, y_train)\n",
    "        \n",
    "        # Predict using the model\n",
    "        y_test_preds = lm_model.predict(X_test)\n",
    "        y_train_preds = lm_model.predict(X_train)\n",
    "    \n",
    "        # Score the model using the predictions\n",
    "        r2_scores_test.append(r2_score(y_test, y_test_preds))\n",
    "        r2_scores_train.append(r2_score(y_train, y_train_preds))\n",
    "        \n",
    "        results[str(cut_off)] = r2_score(y_test, y_test_preds)\n",
    "    \n",
    "    # plot results here\n",
    "    if plot:\n",
    "        plt.plot(num_feats, r2_scores_test, label = 'Test', alpha = 0.5)\n",
    "        plt.plot(num_feats, r2_scores_train, label = 'Train', alpha = 0.5)\n",
    "        plt.xlabel('Number of Features')\n",
    "        plt.ylabel('Rsquared')\n",
    "        plt.title('Rsquared by number of Features')\n",
    "        plt.legend(loc = 1)\n",
    "        plt.show()\n",
    "    \n",
    "    # Find the best cut-off\n",
    "    best_cutoff = max(results, key = results.get)\n",
    "    \n",
    "    # Now we fit our final model using the best cut-off\n",
    "    reduce_X = X.iloc[:, np.where((X.sum() > int(best_cutoff)) == True)[0]]\n",
    "    num_feats.append(reduce_X.shape[1])\n",
    "    \n",
    "    # Split data into train and test\n",
    "    X_train, X_test, y_train, y_test = train_test_split(reduce_X, y, \n",
    "                                                        test_size = test_size,\n",
    "                                                       random_state = rand_state)\n",
    "    \n",
    "    # Instantiate and fit the model\n",
    "    lm_model = LinearRegression(normalize = True)\n",
    "    lm_model.fit(X_train, y_train)\n",
    "    \n",
    "    return r2_scores_test, r2_scores_train, lm_model, X_train, X_test, y_train, y_test"
   ]
  },
  {
   "cell_type": "code",
   "execution_count": 34,
   "metadata": {},
   "outputs": [
    {
     "data": {
      "image/png": "[encoded data removed]",
      "text/plain": [
       "<Figure size 432x288 with 1 Axes>"
      ]
     },
     "metadata": {
      "needs_background": "light"
     },
     "output_type": "display_data"
    }
   ],
   "source": [
    "# cutoffs here pertains to the number of missing values allowed in the used features.\n",
    "# lower values for cutoffs provides more predictors in the model.\n",
    "cut_offs =   [3500, 2500, 1000, 100, 50, 30, 25, 20]\n",
    "r2_scores_test, r2_scores_train, lm_model, X_train, X_test, y_train, y_test = train(X, y, cut_offs)"
   ]
  },
  {
   "cell_type": "code",
   "execution_count": 35,
   "metadata": {},
   "outputs": [
    {
     "name": "stdout",
     "output_type": "stream",
     "text": [
      "40\n",
      "40\n",
      "0.5461692033210008\n",
      "0.5500063497577539\n"
     ]
    }
   ],
   "source": [
    "print(X.shape[1]) # Number of columns in original X\n",
    "print(X_train.shape[1]) # Number of columns in reduced X\n",
    "print(r2_scores_test[np.argmax(r2_scores_test)]) # The model we should implement test_r2\n",
    "print(r2_scores_train[np.argmax(r2_scores_train)]) # The model we should implement train_r2"
   ]
  },
  {
   "cell_type": "markdown",
   "metadata": {},
   "source": [
    "The results from Linear Regression are very poor. We try a RandomForestRegressor with GridSearchCV to see if we can improve the results without changing anything else."
   ]
  },
  {
   "cell_type": "code",
   "execution_count": 36,
   "metadata": {},
   "outputs": [],
   "source": [
    "def train(X, y, test_size = 0.3, rand_state = 42):\n",
    "    \n",
    "    \n",
    "    # Split the data into train, test using sklearn\n",
    "    X_train, X_test, y_train, y_test = train_test_split(X, \n",
    "                                                        y, \n",
    "                                                        test_size = test_size,\n",
    "                                                       random_state = rand_state)\n",
    "        \n",
    "    \n",
    "    # based on https://towardsdatascience.com/hyperparameter-tuning-the-random-forest-in-python-using-scikit-learn-28d2aa77dd74\n",
    "    # Number of trees in the random forest\n",
    "    n_estimators = [100, 200]\n",
    "    \n",
    "    # Number of features to consider at every split\n",
    "    max_features = ['auto']\n",
    "    \n",
    "    # Maximum number of levels in tree\n",
    "    max_depth = [70, 80]\n",
    "    max_depth.append(None)\n",
    "    \n",
    "    # Minimum number of samples to split a node\n",
    "    min_samples_split = [8, 10]\n",
    "    \n",
    "    # Minimum number of samples required at each leaf node\n",
    "    min_samples_leaf = [5]\n",
    "    \n",
    "    # Method of selecting samples for training each tree\n",
    "    bootstrap = [True]\n",
    "    \n",
    "    # Create the hyperparameters grid \n",
    "    param_grid = {\n",
    "        'n_estimators': n_estimators,\n",
    "        'max_features': max_features,\n",
    "        'max_depth': max_depth,\n",
    "        'min_samples_split': min_samples_split,\n",
    "        'min_samples_leaf': min_samples_leaf,\n",
    "        'bootstrap': bootstrap\n",
    "    }\n",
    "    \n",
    "    # Create a base model\n",
    "    base_model = RandomForestRegressor(random_state = rand_state)\n",
    "    \n",
    "    # Instantiate the Grid Search Model\n",
    "    grid_search = GridSearchCV(estimator = base_model, \n",
    "                               param_grid = param_grid,\n",
    "                              cv = 3,\n",
    "                              n_jobs = -1,\n",
    "                              verbose = 10)\n",
    "    \n",
    "    # Fit the grid search to our data\n",
    "    grid_search.fit(X_train, y_train)\n",
    "    \n",
    "    # Our tuned model here\n",
    "    rf_model = grid_search.best_estimator_\n",
    "    \n",
    "    # Predict using the model\n",
    "    y_test_preds = rf_model.predict(X_test)\n",
    "    y_train_preds = rf_model.predict(X_train)\n",
    "    \n",
    "    # compute the r2_scores \n",
    "    r2_scores_test = r2_score(y_test, y_test_preds)\n",
    "    r2_scores_train = r2_score(y_train, y_train_preds)\n",
    "    \n",
    "    return r2_scores_test, r2_scores_train, rf_model, X_train, X_test, y_train, y_test"
   ]
  },
  {
   "cell_type": "code",
   "execution_count": 37,
   "metadata": {},
   "outputs": [
    {
     "name": "stdout",
     "output_type": "stream",
     "text": [
      "Fitting 3 folds for each of 12 candidates, totalling 36 fits\n"
     ]
    },
    {
     "name": "stderr",
     "output_type": "stream",
     "text": [
      "[Parallel(n_jobs=-1)]: Using backend LokyBackend with 8 concurrent workers.\n",
      "[Parallel(n_jobs=-1)]: Done   2 tasks      | elapsed: 27.0min\n",
      "[Parallel(n_jobs=-1)]: Done   9 tasks      | elapsed: 55.2min\n",
      "[Parallel(n_jobs=-1)]: Done  16 tasks      | elapsed: 303.4min\n",
      "[Parallel(n_jobs=-1)]: Done  25 out of  36 | elapsed: 331.1min remaining: 145.7min\n",
      "[Parallel(n_jobs=-1)]: Done  29 out of  36 | elapsed: 356.9min remaining: 86.1min\n",
      "[Parallel(n_jobs=-1)]: Done  33 out of  36 | elapsed: 358.6min remaining: 32.6min\n",
      "[Parallel(n_jobs=-1)]: Done  36 out of  36 | elapsed: 375.9min finished\n"
     ]
    }
   ],
   "source": [
    "r2_scores_test, r2_scores_train, lm_model, X_train, X_test, y_train, y_test = train(X, y)"
   ]
  },
  {
   "cell_type": "code",
   "execution_count": 79,
   "metadata": {},
   "outputs": [
    {
     "name": "stdout",
     "output_type": "stream",
     "text": [
      "[ info ] R^2 scores test: 0.9878160211121585 R^2 scores train 0.9882146520921514\n"
     ]
    }
   ],
   "source": [
    "print('[ info ] R^2 scores test: {} R^2 scores train {}'.format(r2_scores_test, r2_scores_train))"
   ]
  },
  {
   "cell_type": "markdown",
   "metadata": {},
   "source": [
    "## Linear Regression Model versus Random Forest Regressor\n",
    "1. First we see that both models are not overfitting because the R^2 on the training and test datasets are marginally different, with the Random Forest even more marginal that the Linear Regressor.\n",
    "2. The Random Forest Regressor nearly twice outperforms the Linear Regressor proving that its better suited to this dataset.\n",
    "3. The Random Forest Regressor is therefore more superior and better at predicting the price of AirBnB accomodation in Seattle.\n",
    "4. The Linear Regressor, while producing poor results, is quite quick computationally as compared to the Random Forest which took hours to tweak with the final model being produced in 6 hours."
   ]
  },
  {
   "cell_type": "code",
   "execution_count": 74,
   "metadata": {},
   "outputs": [],
   "source": [
    "df_train = X.copy()\n",
    "df_train['price'] = y"
   ]
  },
  {
   "cell_type": "code",
   "execution_count": 75,
   "metadata": {},
   "outputs": [
    {
     "data": {
      "text/html": [
       "<div>\n",
       "<style scoped>\n",
       "    .dataframe tbody tr th:only-of-type {\n",
       "        vertical-align: middle;\n",
       "    }\n",
       "\n",
       "    .dataframe tbody tr th {\n",
       "        vertical-align: top;\n",
       "    }\n",
       "\n",
       "    .dataframe thead th {\n",
       "        text-align: right;\n",
       "    }\n",
       "</style>\n",
       "<table border=\"1\" class=\"dataframe\">\n",
       "  <thead>\n",
       "    <tr style=\"text-align: right;\">\n",
       "      <th></th>\n",
       "      <th>host_listings_count</th>\n",
       "      <th>accommodates</th>\n",
       "      <th>bathrooms</th>\n",
       "      <th>bedrooms</th>\n",
       "      <th>beds</th>\n",
       "      <th>extra_people</th>\n",
       "      <th>number_of_reviews</th>\n",
       "      <th>review_scores_rating</th>\n",
       "      <th>host_response_time_within a day</th>\n",
       "      <th>host_response_time_within a few hours</th>\n",
       "      <th>...</th>\n",
       "      <th>property_type_Yurt</th>\n",
       "      <th>room_type_Private room</th>\n",
       "      <th>room_type_Shared room</th>\n",
       "      <th>bed_type_Couch</th>\n",
       "      <th>bed_type_Futon</th>\n",
       "      <th>bed_type_Pull-out Sofa</th>\n",
       "      <th>bed_type_Real Bed</th>\n",
       "      <th>cancellation_policy_moderate</th>\n",
       "      <th>cancellation_policy_strict</th>\n",
       "      <th>price</th>\n",
       "    </tr>\n",
       "  </thead>\n",
       "  <tbody>\n",
       "    <tr>\n",
       "      <td>0</td>\n",
       "      <td>3.0</td>\n",
       "      <td>4</td>\n",
       "      <td>1.0</td>\n",
       "      <td>1.0</td>\n",
       "      <td>1.0</td>\n",
       "      <td>5.0</td>\n",
       "      <td>207</td>\n",
       "      <td>95.0</td>\n",
       "      <td>0</td>\n",
       "      <td>1</td>\n",
       "      <td>...</td>\n",
       "      <td>0</td>\n",
       "      <td>0</td>\n",
       "      <td>0</td>\n",
       "      <td>0</td>\n",
       "      <td>0</td>\n",
       "      <td>0</td>\n",
       "      <td>1</td>\n",
       "      <td>1</td>\n",
       "      <td>0</td>\n",
       "      <td>85.0</td>\n",
       "    </tr>\n",
       "    <tr>\n",
       "      <td>1</td>\n",
       "      <td>3.0</td>\n",
       "      <td>4</td>\n",
       "      <td>1.0</td>\n",
       "      <td>1.0</td>\n",
       "      <td>1.0</td>\n",
       "      <td>5.0</td>\n",
       "      <td>207</td>\n",
       "      <td>95.0</td>\n",
       "      <td>0</td>\n",
       "      <td>1</td>\n",
       "      <td>...</td>\n",
       "      <td>0</td>\n",
       "      <td>0</td>\n",
       "      <td>0</td>\n",
       "      <td>0</td>\n",
       "      <td>0</td>\n",
       "      <td>0</td>\n",
       "      <td>1</td>\n",
       "      <td>1</td>\n",
       "      <td>0</td>\n",
       "      <td>85.0</td>\n",
       "    </tr>\n",
       "    <tr>\n",
       "      <td>2</td>\n",
       "      <td>3.0</td>\n",
       "      <td>4</td>\n",
       "      <td>1.0</td>\n",
       "      <td>1.0</td>\n",
       "      <td>1.0</td>\n",
       "      <td>5.0</td>\n",
       "      <td>207</td>\n",
       "      <td>95.0</td>\n",
       "      <td>0</td>\n",
       "      <td>1</td>\n",
       "      <td>...</td>\n",
       "      <td>0</td>\n",
       "      <td>0</td>\n",
       "      <td>0</td>\n",
       "      <td>0</td>\n",
       "      <td>0</td>\n",
       "      <td>0</td>\n",
       "      <td>1</td>\n",
       "      <td>1</td>\n",
       "      <td>0</td>\n",
       "      <td>85.0</td>\n",
       "    </tr>\n",
       "    <tr>\n",
       "      <td>3</td>\n",
       "      <td>3.0</td>\n",
       "      <td>4</td>\n",
       "      <td>1.0</td>\n",
       "      <td>1.0</td>\n",
       "      <td>1.0</td>\n",
       "      <td>5.0</td>\n",
       "      <td>207</td>\n",
       "      <td>95.0</td>\n",
       "      <td>0</td>\n",
       "      <td>1</td>\n",
       "      <td>...</td>\n",
       "      <td>0</td>\n",
       "      <td>0</td>\n",
       "      <td>0</td>\n",
       "      <td>0</td>\n",
       "      <td>0</td>\n",
       "      <td>0</td>\n",
       "      <td>1</td>\n",
       "      <td>1</td>\n",
       "      <td>0</td>\n",
       "      <td>85.0</td>\n",
       "    </tr>\n",
       "    <tr>\n",
       "      <td>4</td>\n",
       "      <td>3.0</td>\n",
       "      <td>4</td>\n",
       "      <td>1.0</td>\n",
       "      <td>1.0</td>\n",
       "      <td>1.0</td>\n",
       "      <td>5.0</td>\n",
       "      <td>207</td>\n",
       "      <td>95.0</td>\n",
       "      <td>0</td>\n",
       "      <td>1</td>\n",
       "      <td>...</td>\n",
       "      <td>0</td>\n",
       "      <td>0</td>\n",
       "      <td>0</td>\n",
       "      <td>0</td>\n",
       "      <td>0</td>\n",
       "      <td>0</td>\n",
       "      <td>1</td>\n",
       "      <td>1</td>\n",
       "      <td>0</td>\n",
       "      <td>85.0</td>\n",
       "    </tr>\n",
       "  </tbody>\n",
       "</table>\n",
       "<p>5 rows × 41 columns</p>\n",
       "</div>"
      ],
      "text/plain": [
       "   host_listings_count  accommodates  bathrooms  bedrooms  beds  extra_people  \\\n",
       "0                  3.0             4        1.0       1.0   1.0           5.0   \n",
       "1                  3.0             4        1.0       1.0   1.0           5.0   \n",
       "2                  3.0             4        1.0       1.0   1.0           5.0   \n",
       "3                  3.0             4        1.0       1.0   1.0           5.0   \n",
       "4                  3.0             4        1.0       1.0   1.0           5.0   \n",
       "\n",
       "   number_of_reviews  review_scores_rating  host_response_time_within a day  \\\n",
       "0                207                  95.0                                0   \n",
       "1                207                  95.0                                0   \n",
       "2                207                  95.0                                0   \n",
       "3                207                  95.0                                0   \n",
       "4                207                  95.0                                0   \n",
       "\n",
       "   host_response_time_within a few hours  ...  property_type_Yurt  \\\n",
       "0                                      1  ...                   0   \n",
       "1                                      1  ...                   0   \n",
       "2                                      1  ...                   0   \n",
       "3                                      1  ...                   0   \n",
       "4                                      1  ...                   0   \n",
       "\n",
       "   room_type_Private room  room_type_Shared room  bed_type_Couch  \\\n",
       "0                       0                      0               0   \n",
       "1                       0                      0               0   \n",
       "2                       0                      0               0   \n",
       "3                       0                      0               0   \n",
       "4                       0                      0               0   \n",
       "\n",
       "   bed_type_Futon  bed_type_Pull-out Sofa  bed_type_Real Bed  \\\n",
       "0               0                       0                  1   \n",
       "1               0                       0                  1   \n",
       "2               0                       0                  1   \n",
       "3               0                       0                  1   \n",
       "4               0                       0                  1   \n",
       "\n",
       "   cancellation_policy_moderate  cancellation_policy_strict  price  \n",
       "0                             1                           0   85.0  \n",
       "1                             1                           0   85.0  \n",
       "2                             1                           0   85.0  \n",
       "3                             1                           0   85.0  \n",
       "4                             1                           0   85.0  \n",
       "\n",
       "[5 rows x 41 columns]"
      ]
     },
     "execution_count": 75,
     "metadata": {},
     "output_type": "execute_result"
    }
   ],
   "source": [
    "df_train.head()"
   ]
  },
  {
   "cell_type": "code",
   "execution_count": 80,
   "metadata": {},
   "outputs": [
    {
     "data": {
      "text/plain": [
       "Index(['host_listings_count', 'accommodates', 'bathrooms', 'bedrooms', 'beds',\n",
       "       'extra_people', 'number_of_reviews', 'review_scores_rating',\n",
       "       'host_response_time_within a day',\n",
       "       'host_response_time_within a few hours',\n",
       "       'host_response_time_within an hour', 'host_acceptance_rate_100%',\n",
       "       'host_is_superhost_t', 'host_identity_verified_t',\n",
       "       'city_Phinney Ridge Seattle', 'city_Seattle', 'city_West Seattle',\n",
       "       'property_type_Bed & Breakfast', 'property_type_Boat',\n",
       "       'property_type_Bungalow', 'property_type_Cabin',\n",
       "       'property_type_Camper/RV', 'property_type_Chalet',\n",
       "       'property_type_Condominium', 'property_type_Dorm',\n",
       "       'property_type_House', 'property_type_Loft', 'property_type_Other',\n",
       "       'property_type_Tent', 'property_type_Townhouse',\n",
       "       'property_type_Treehouse', 'property_type_Yurt',\n",
       "       'room_type_Private room', 'room_type_Shared room', 'bed_type_Couch',\n",
       "       'bed_type_Futon', 'bed_type_Pull-out Sofa', 'bed_type_Real Bed',\n",
       "       'cancellation_policy_moderate', 'cancellation_policy_strict'],\n",
       "      dtype='object')"
      ]
     },
     "execution_count": 80,
     "metadata": {},
     "output_type": "execute_result"
    }
   ],
   "source": [
    "X_train.columns"
   ]
  },
  {
   "cell_type": "markdown",
   "metadata": {},
   "source": [
    "## Feature Importance\n",
    "Lets see which factors or variables our RandomForestRegressor says drives the price of AirBnB accomodation."
   ]
  },
  {
   "cell_type": "code",
   "execution_count": 176,
   "metadata": {},
   "outputs": [
    {
     "name": "stdout",
     "output_type": "stream",
     "text": [
      "[ info ] Feature ranking ...\n",
      "1. bedrooms: (36.766204)\n",
      "2. accommodates: (12.954024)\n",
      "3. bathrooms: (7.708095)\n",
      "4. number_of_reviews: (7.312775)\n",
      "5. extra_people: (5.149953)\n",
      "6. host_listings_count: (4.315531)\n",
      "7. beds: (3.493740)\n",
      "8. review_scores_rating: (3.360170)\n",
      "9. room_type_Private room: (3.058988)\n",
      "10. cancellation_policy_strict: (1.734147)\n",
      "11. room_type_Shared room: (1.719883)\n",
      "12. host_response_time_within an hour: (1.715339)\n",
      "13. cancellation_policy_moderate: (1.711321)\n",
      "14. host_identity_verified_t: (1.595102)\n",
      "15. property_type_House: (1.356062)\n",
      "16. property_type_Boat: (1.325507)\n",
      "17. host_response_time_within a few hours: (1.178328)\n",
      "18. property_type_Condominium: (0.991397)\n",
      "19. host_response_time_within a day: (0.893008)\n",
      "20. host_is_superhost_t: (0.505589)\n",
      "21. property_type_Loft: (0.347000)\n",
      "22. property_type_Townhouse: (0.222975)\n",
      "23. property_type_Bed & Breakfast: (0.186160)\n",
      "24. property_type_Camper/RV: (0.172929)\n",
      "25. bed_type_Real Bed: (0.070718)\n",
      "26. property_type_Cabin: (0.039262)\n",
      "27. property_type_Treehouse: (0.031799)\n",
      "28. bed_type_Futon: (0.028424)\n",
      "29. property_type_Other: (0.011355)\n",
      "30. bed_type_Pull-out Sofa: (0.010598)\n",
      "31. bed_type_Couch: (0.009180)\n",
      "32. property_type_Bungalow: (0.007835)\n",
      "33. property_type_Tent: (0.007155)\n",
      "34. city_Seattle: (0.004317)\n",
      "35. city_Phinney Ridge Seattle: (0.003752)\n",
      "36. city_West Seattle: (0.000719)\n",
      "37. property_type_Chalet: (0.000438)\n",
      "38. property_type_Yurt: (0.000145)\n",
      "39. property_type_Dorm: (0.000072)\n",
      "40. host_acceptance_rate_100%: (0.000004)\n"
     ]
    }
   ],
   "source": [
    "importances = lm_model.feature_importances_ * 100\n",
    "std = np.std([tree.feature_importances_ for tree in lm_model.estimators_], axis = 0)\n",
    "indices = np.argsort(importances)[::-1]\n",
    "# Feature ranking\n",
    "print('[ info ] Feature ranking ...')\n",
    "for f in range(X_train.shape[1]):\n",
    "    print('%d. %s: (%f)' % (f + 1, X_train.columns[indices[f]] ,importances[indices[f]]))"
   ]
  },
  {
   "cell_type": "code",
   "execution_count": 178,
   "metadata": {},
   "outputs": [
    {
     "data": {
      "image/png": "[encoded data removed]",
      "text/plain": [
       "<Figure size 1440x720 with 1 Axes>"
      ]
     },
     "metadata": {
      "needs_background": "light"
     },
     "output_type": "display_data"
    }
   ],
   "source": [
    "# Lets plot the feature importances\n",
    "plt.figure(figsize = (20, 10))\n",
    "plt.title('Seattle AirBnB Feature Importances')\n",
    "plt.bar(range(X_train.shape[1]), importances[indices], \n",
    "        color = 'b', yerr = std[indices], align = 'center')\n",
    "plt.xticks(range(X_train.shape[1]), X_train.columns[indices], rotation = 'vertical')\n",
    "plt.ylabel('Importance %')\n",
    "plt.xlabel('Feature')\n",
    "plt.xlim(-1, X.shape[1])\n",
    "plt.show()"
   ]
  },
  {
   "cell_type": "markdown",
   "metadata": {},
   "source": [
    "Our plot above shows the feature importances in red along with their inter-trees variability. The first nine, of the forty, features as above drives the prices of accomodation in Seattle.\n",
    "\n",
    "This is consistent with our intuitions as we anecdotally expect accomodation with more bedrooms, accommodates more people, have more bath rooms for those people and charges more for extra people to be more expensive.\n",
    "\n",
    "The key insight here is that a simple strategy to minimize cost is to take a minimalist view on the above nine features. The more you can squeeze into fewer bedrooms, bathrooms, the better. All other features contribute marginally to the price of accomodation.\n",
    "\n",
    "Lets see what our heatmap says about these features with relation to price."
   ]
  },
  {
   "cell_type": "code",
   "execution_count": 90,
   "metadata": {},
   "outputs": [
    {
     "data": {
      "text/plain": [
       "<matplotlib.axes._subplots.AxesSubplot at 0x20c94eee8d0>"
      ]
     },
     "execution_count": 90,
     "metadata": {},
     "output_type": "execute_result"
    },
    {
     "data": {
      "image/png": "[encoded data removed]",
      "text/plain": [
       "<Figure size 432x288 with 2 Axes>"
      ]
     },
     "metadata": {
      "needs_background": "light"
     },
     "output_type": "display_data"
    }
   ],
   "source": [
    "core_cols = ['bedrooms', 'accommodates', 'bathrooms', \n",
    "             'number_of_reviews', 'price', 'extra_people', 'host_listings_count',\n",
    "            'beds', 'review_scores_rating', 'room_type_Private room', 'cancellation_policy_strict']\n",
    "sns.heatmap(df_train[core_cols].corr(), annot = True)"
   ]
  },
  {
   "cell_type": "markdown",
   "metadata": {},
   "source": [
    "Comparing our feature importances to the above heatmap suggests that our model is consistent with the way different features correlate with price. All our features highlighted as important show some degree of correlation with price. \n",
    "There are minor differences though, for example, the number of people that can be accomodated has the highest correlation with price while the number of bedrooms has the highest impact in our model. \n",
    "We also see that there is high correlation between bedrooms and accomodates suggesting that these two features move together."
   ]
  },
  {
   "cell_type": "markdown",
   "metadata": {},
   "source": [
    "## Analysis of growth and demand for AirBnB accomodation in Seattle."
   ]
  },
  {
   "cell_type": "code",
   "execution_count": 122,
   "metadata": {},
   "outputs": [
    {
     "data": {
      "text/html": [
       "<div>\n",
       "<style scoped>\n",
       "    .dataframe tbody tr th:only-of-type {\n",
       "        vertical-align: middle;\n",
       "    }\n",
       "\n",
       "    .dataframe tbody tr th {\n",
       "        vertical-align: top;\n",
       "    }\n",
       "\n",
       "    .dataframe thead th {\n",
       "        text-align: right;\n",
       "    }\n",
       "</style>\n",
       "<table border=\"1\" class=\"dataframe\">\n",
       "  <thead>\n",
       "    <tr style=\"text-align: right;\">\n",
       "      <th></th>\n",
       "      <th>listing_id</th>\n",
       "      <th>date</th>\n",
       "      <th>available</th>\n",
       "      <th>price</th>\n",
       "      <th>year</th>\n",
       "      <th>month</th>\n",
       "    </tr>\n",
       "  </thead>\n",
       "  <tbody>\n",
       "    <tr>\n",
       "      <td>0</td>\n",
       "      <td>241032</td>\n",
       "      <td>2016-01-04</td>\n",
       "      <td>t</td>\n",
       "      <td>$85.00</td>\n",
       "      <td>2016</td>\n",
       "      <td>1</td>\n",
       "    </tr>\n",
       "    <tr>\n",
       "      <td>1</td>\n",
       "      <td>241032</td>\n",
       "      <td>2016-01-05</td>\n",
       "      <td>t</td>\n",
       "      <td>$85.00</td>\n",
       "      <td>2016</td>\n",
       "      <td>1</td>\n",
       "    </tr>\n",
       "    <tr>\n",
       "      <td>9</td>\n",
       "      <td>241032</td>\n",
       "      <td>2016-01-13</td>\n",
       "      <td>t</td>\n",
       "      <td>$85.00</td>\n",
       "      <td>2016</td>\n",
       "      <td>1</td>\n",
       "    </tr>\n",
       "    <tr>\n",
       "      <td>10</td>\n",
       "      <td>241032</td>\n",
       "      <td>2016-01-14</td>\n",
       "      <td>t</td>\n",
       "      <td>$85.00</td>\n",
       "      <td>2016</td>\n",
       "      <td>1</td>\n",
       "    </tr>\n",
       "    <tr>\n",
       "      <td>14</td>\n",
       "      <td>241032</td>\n",
       "      <td>2016-01-18</td>\n",
       "      <td>t</td>\n",
       "      <td>$85.00</td>\n",
       "      <td>2016</td>\n",
       "      <td>1</td>\n",
       "    </tr>\n",
       "  </tbody>\n",
       "</table>\n",
       "</div>"
      ],
      "text/plain": [
       "    listing_id       date available   price  year  month\n",
       "0       241032 2016-01-04         t  $85.00  2016      1\n",
       "1       241032 2016-01-05         t  $85.00  2016      1\n",
       "9       241032 2016-01-13         t  $85.00  2016      1\n",
       "10      241032 2016-01-14         t  $85.00  2016      1\n",
       "14      241032 2016-01-18         t  $85.00  2016      1"
      ]
     },
     "execution_count": 122,
     "metadata": {},
     "output_type": "execute_result"
    }
   ],
   "source": [
    "cal_df.head()"
   ]
  },
  {
   "cell_type": "code",
   "execution_count": 124,
   "metadata": {},
   "outputs": [
    {
     "name": "stdout",
     "output_type": "stream",
     "text": [
      "2016-01-04 00:00:00 2017-01-02 00:00:00\n"
     ]
    }
   ],
   "source": [
    "print(cal_df['date'].min(), cal_df['date'].max())"
   ]
  },
  {
   "cell_type": "code",
   "execution_count": 128,
   "metadata": {},
   "outputs": [],
   "source": [
    "fill_zeros = lambda x: str(x).zfill(2)"
   ]
  },
  {
   "cell_type": "code",
   "execution_count": 131,
   "metadata": {},
   "outputs": [],
   "source": [
    "cal_df['month'] = cal_df['month'].apply(fill_zeros)"
   ]
  },
  {
   "cell_type": "code",
   "execution_count": 136,
   "metadata": {},
   "outputs": [
    {
     "data": {
      "text/html": [
       "<div>\n",
       "<style scoped>\n",
       "    .dataframe tbody tr th:only-of-type {\n",
       "        vertical-align: middle;\n",
       "    }\n",
       "\n",
       "    .dataframe tbody tr th {\n",
       "        vertical-align: top;\n",
       "    }\n",
       "\n",
       "    .dataframe thead th {\n",
       "        text-align: right;\n",
       "    }\n",
       "</style>\n",
       "<table border=\"1\" class=\"dataframe\">\n",
       "  <thead>\n",
       "    <tr style=\"text-align: right;\">\n",
       "      <th></th>\n",
       "      <th>listing_id</th>\n",
       "      <th>date</th>\n",
       "      <th>available</th>\n",
       "      <th>price</th>\n",
       "      <th>year</th>\n",
       "      <th>month</th>\n",
       "      <th>year_month</th>\n",
       "    </tr>\n",
       "  </thead>\n",
       "  <tbody>\n",
       "    <tr>\n",
       "      <td>0</td>\n",
       "      <td>241032</td>\n",
       "      <td>2016-01-04</td>\n",
       "      <td>t</td>\n",
       "      <td>$85.00</td>\n",
       "      <td>2016</td>\n",
       "      <td>01</td>\n",
       "      <td>201601</td>\n",
       "    </tr>\n",
       "    <tr>\n",
       "      <td>1</td>\n",
       "      <td>241032</td>\n",
       "      <td>2016-01-05</td>\n",
       "      <td>t</td>\n",
       "      <td>$85.00</td>\n",
       "      <td>2016</td>\n",
       "      <td>01</td>\n",
       "      <td>201601</td>\n",
       "    </tr>\n",
       "    <tr>\n",
       "      <td>9</td>\n",
       "      <td>241032</td>\n",
       "      <td>2016-01-13</td>\n",
       "      <td>t</td>\n",
       "      <td>$85.00</td>\n",
       "      <td>2016</td>\n",
       "      <td>01</td>\n",
       "      <td>201601</td>\n",
       "    </tr>\n",
       "    <tr>\n",
       "      <td>10</td>\n",
       "      <td>241032</td>\n",
       "      <td>2016-01-14</td>\n",
       "      <td>t</td>\n",
       "      <td>$85.00</td>\n",
       "      <td>2016</td>\n",
       "      <td>01</td>\n",
       "      <td>201601</td>\n",
       "    </tr>\n",
       "    <tr>\n",
       "      <td>14</td>\n",
       "      <td>241032</td>\n",
       "      <td>2016-01-18</td>\n",
       "      <td>t</td>\n",
       "      <td>$85.00</td>\n",
       "      <td>2016</td>\n",
       "      <td>01</td>\n",
       "      <td>201601</td>\n",
       "    </tr>\n",
       "  </tbody>\n",
       "</table>\n",
       "</div>"
      ],
      "text/plain": [
       "    listing_id       date available   price  year month year_month\n",
       "0       241032 2016-01-04         t  $85.00  2016    01     201601\n",
       "1       241032 2016-01-05         t  $85.00  2016    01     201601\n",
       "9       241032 2016-01-13         t  $85.00  2016    01     201601\n",
       "10      241032 2016-01-14         t  $85.00  2016    01     201601\n",
       "14      241032 2016-01-18         t  $85.00  2016    01     201601"
      ]
     },
     "execution_count": 136,
     "metadata": {},
     "output_type": "execute_result"
    }
   ],
   "source": [
    "cal_df['year_month'] = cal_df['year'].astype(str) + cal_df['month']\n",
    "cal_df.head()"
   ]
  },
  {
   "cell_type": "code",
   "execution_count": 150,
   "metadata": {},
   "outputs": [
    {
     "data": {
      "text/plain": [
       "<matplotlib.axes._subplots.AxesSubplot at 0x20ce02bc7b8>"
      ]
     },
     "execution_count": 150,
     "metadata": {},
     "output_type": "execute_result"
    },
    {
     "data": {
      "image/png": "[encoded data removed]",
      "text/plain": [
       "<Figure size 432x288 with 1 Axes>"
      ]
     },
     "metadata": {
      "needs_background": "light"
     },
     "output_type": "display_data"
    }
   ],
   "source": [
    "demand_per_month_df = cal_df['year_month'].astype(int).value_counts().sort_index().plot(kind='bar')\n",
    "demand_per_month_df"
   ]
  },
  {
   "cell_type": "markdown",
   "metadata": {},
   "source": [
    "We see that demand increased steadily from July-2016 to Dec-2016. We cant establish if demand is cyclical from this data since we have only year's data. However based on this plot we can conclude that demand for AirBnB accomodation is increasing."
   ]
  },
  {
   "cell_type": "code",
   "execution_count": 161,
   "metadata": {},
   "outputs": [
    {
     "data": {
      "text/plain": [
       "<matplotlib.axes._subplots.AxesSubplot at 0x20cf1c1afd0>"
      ]
     },
     "execution_count": 161,
     "metadata": {},
     "output_type": "execute_result"
    },
    {
     "data": {
      "image/png": "[encoded data removed]",
      "text/plain": [
       "<Figure size 432x288 with 1 Axes>"
      ]
     },
     "metadata": {
      "needs_background": "light"
     },
     "output_type": "display_data"
    }
   ],
   "source": [
    "remove_dollar = lambda x: x.strip('$')\n",
    "remove_comma = lambda x: x.replace(',','')\n",
    "cal_df['price'] = cal_df['price'].apply(remove_dollar)\n",
    "cal_df['price'] = cal_df['price'].apply(remove_comma)\n",
    "cal_df['price'] = cal_df['price'].astype(float)\n",
    "\n",
    "cal_df.groupby('year_month')['price'].mean().plot(kind = 'bar')"
   ]
  },
  {
   "cell_type": "markdown",
   "metadata": {},
   "source": [
    "We see that prices rise in June, July, August and September which are also the warmest (summer) months in Seattle. The coldest months (Jan, Feb, Nov and Dec) have relatively lower prices. We can conclude that bargains are likely to be found during these times."
   ]
  },
  {
   "cell_type": "code",
   "execution_count": 162,
   "metadata": {},
   "outputs": [
    {
     "data": {
      "text/plain": [
       "<matplotlib.axes._subplots.AxesSubplot at 0x20c99024d68>"
      ]
     },
     "execution_count": 162,
     "metadata": {},
     "output_type": "execute_result"
    },
    {
     "data": {
      "image/png": "[encoded data removed]",
      "text/plain": [
       "<Figure size 432x288 with 1 Axes>"
      ]
     },
     "metadata": {
      "needs_background": "light"
     },
     "output_type": "display_data"
    }
   ],
   "source": [
    "cal_df.groupby('year_month')['price'].sum().plot(kind = 'bar')"
   ]
  },
  {
   "cell_type": "markdown",
   "metadata": {},
   "source": [
    "This plot also shows that not only are AirBnB revenues increasing overall but also that low number of listings in June, July and August are balanced by high higher prices thats we dont see a revenue drop during those months."
   ]
  },
  {
   "cell_type": "markdown",
   "metadata": {},
   "source": [
    "### 6. Results and Recommendations"
   ]
  },
  {
   "cell_type": "markdown",
   "metadata": {},
   "source": [
    "The key results and recommendations which answer our business questions are as follows:\n",
    "- We built two models for predicting prices of AirBnB accomodation in Seattle. We found that the Random Forest model produced the better results and predictive capabilities.\n",
    "- Based on our model we identified that the top nine variables that drive price are bedrooms, accommodates, bathrooms, number_of_reviews, extra_people, host_listings_count, beds, review_scores_rating and room_type_Private room.\n",
    "- Armed with the above information we can predict the price of accomodation with a 98% accuracy.\n",
    "- We also found that prices can be reduced by reduced the number of bedrooms, the number of people that can be accomodated, bathrooms and looking at the price for extra people.\n",
    "- Prices can further be reduced by potentially carefully chosing the time of the year to visit Seattle. Prices are very high in the summer months.\n",
    "- Although prices are set by owners of accomodation they are actually following basic microecomic principles. For example, prices are high during the hot months in Seattle when they are fewer properties available.\n",
    "- We found that the demand for AirBnB accomodation has overall been increasing and growing which is good for both renters and stayers."
   ]
  },
  {
   "cell_type": "markdown",
   "metadata": {},
   "source": [
    "### 7. Deployment"
   ]
  },
  {
   "cell_type": "markdown",
   "metadata": {},
   "source": [
    "Our model can now be deployed in the cloud as a web service which can be consumed by mobile applications and websites. These clients will need to provide a basic interface where a user can query for prices by any of the variables identified above as price drivers and also see plots to show price movements and demand during the year."
   ]
  },
  {
   "cell_type": "code",
   "execution_count": null,
   "metadata": {},
   "outputs": [],
   "source": []
  }
 ],
 "metadata": {
  "kernelspec": {
   "display_name": "Python 3",
   "language": "python",
   "name": "python3"
  },
  "language_info": {
   "codemirror_mode": {
    "name": "ipython",
    "version": 3
   },
   "file_extension": ".py",
   "mimetype": "text/x-python",
   "name": "python",
   "nbconvert_exporter": "python",
   "pygments_lexer": "ipython3",
   "version": "3.6.8"
  }
 },
 "nbformat": 4,
 "nbformat_minor": 2
}
